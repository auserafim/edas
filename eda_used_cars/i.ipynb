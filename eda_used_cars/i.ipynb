{
 "cells": [
  {
   "cell_type": "markdown",
   "id": "e0f1ca95",
   "metadata": {},
   "source": [
    "# Análise Dataset Carros Usados"
   ]
  },
  {
   "cell_type": "code",
   "execution_count": 1,
   "id": "cdaebe4a",
   "metadata": {},
   "outputs": [],
   "source": [
    "import pandas as pd \n",
    "import seaborn as sns\n",
    "import matplotlib.pyplot as plt"
   ]
  },
  {
   "cell_type": "markdown",
   "id": "714871f2",
   "metadata": {},
   "source": [
    "# Carregando o dataset para ler informações"
   ]
  },
  {
   "cell_type": "markdown",
   "id": "42c2fca6",
   "metadata": {},
   "source": []
  },
  {
   "cell_type": "code",
   "execution_count": 5,
   "id": "4e9146e5",
   "metadata": {},
   "outputs": [
    {
     "data": {
      "text/html": [
       "<div>\n",
       "<style scoped>\n",
       "    .dataframe tbody tr th:only-of-type {\n",
       "        vertical-align: middle;\n",
       "    }\n",
       "\n",
       "    .dataframe tbody tr th {\n",
       "        vertical-align: top;\n",
       "    }\n",
       "\n",
       "    .dataframe thead th {\n",
       "        text-align: right;\n",
       "    }\n",
       "</style>\n",
       "<table border=\"1\" class=\"dataframe\">\n",
       "  <thead>\n",
       "    <tr style=\"text-align: right;\">\n",
       "      <th></th>\n",
       "      <th>data.set</th>\n",
       "      <th>total.cost</th>\n",
       "      <th>lot.sale.days</th>\n",
       "      <th>overage</th>\n",
       "      <th>mileage</th>\n",
       "      <th>vehicle.type</th>\n",
       "      <th>domestic.import</th>\n",
       "      <th>vehicle.age</th>\n",
       "      <th>vehicle.age.group</th>\n",
       "      <th>color.set</th>\n",
       "      <th>makex</th>\n",
       "      <th>state</th>\n",
       "      <th>make.model</th>\n",
       "    </tr>\n",
       "  </thead>\n",
       "  <tbody>\n",
       "    <tr>\n",
       "      <th>0</th>\n",
       "      <td>TRAIN</td>\n",
       "      <td>4037</td>\n",
       "      <td>135</td>\n",
       "      <td>YES</td>\n",
       "      <td>67341</td>\n",
       "      <td>FAMILY.LARGE</td>\n",
       "      <td>Domestic</td>\n",
       "      <td>8</td>\n",
       "      <td>SEVEN+</td>\n",
       "      <td>SILVER</td>\n",
       "      <td>BUICK</td>\n",
       "      <td>CA</td>\n",
       "      <td>BUICK.CENTURY</td>\n",
       "    </tr>\n",
       "    <tr>\n",
       "      <th>1</th>\n",
       "      <td>TRAIN</td>\n",
       "      <td>6886</td>\n",
       "      <td>114</td>\n",
       "      <td>YES</td>\n",
       "      <td>72823</td>\n",
       "      <td>FAMILY.MEDIUM</td>\n",
       "      <td>Domestic</td>\n",
       "      <td>6</td>\n",
       "      <td>SIX</td>\n",
       "      <td>WHITE</td>\n",
       "      <td>DODGE</td>\n",
       "      <td>AZ</td>\n",
       "      <td>DODGE.NEON</td>\n",
       "    </tr>\n",
       "    <tr>\n",
       "      <th>2</th>\n",
       "      <td>TRAIN</td>\n",
       "      <td>3924</td>\n",
       "      <td>205</td>\n",
       "      <td>YES</td>\n",
       "      <td>96330</td>\n",
       "      <td>FAMILY.MEDIUM</td>\n",
       "      <td>Domestic</td>\n",
       "      <td>9</td>\n",
       "      <td>SEVEN+</td>\n",
       "      <td>WHITE</td>\n",
       "      <td>OLDSMOBILE</td>\n",
       "      <td>FL</td>\n",
       "      <td>OLDSMOBILE.CUTLASS SUPREME</td>\n",
       "    </tr>\n",
       "    <tr>\n",
       "      <th>3</th>\n",
       "      <td>TRAIN</td>\n",
       "      <td>4636</td>\n",
       "      <td>100</td>\n",
       "      <td>YES</td>\n",
       "      <td>58519</td>\n",
       "      <td>ECONOMY</td>\n",
       "      <td>Import</td>\n",
       "      <td>4</td>\n",
       "      <td>FOUR</td>\n",
       "      <td>GOLD</td>\n",
       "      <td>KIA</td>\n",
       "      <td>NV</td>\n",
       "      <td>KIA.SEPHIA</td>\n",
       "    </tr>\n",
       "    <tr>\n",
       "      <th>4</th>\n",
       "      <td>TRAIN</td>\n",
       "      <td>5080</td>\n",
       "      <td>129</td>\n",
       "      <td>YES</td>\n",
       "      <td>99057</td>\n",
       "      <td>FAMILY.MEDIUM</td>\n",
       "      <td>Domestic</td>\n",
       "      <td>4</td>\n",
       "      <td>FOUR</td>\n",
       "      <td>GREEN</td>\n",
       "      <td>OLDSMOBILE</td>\n",
       "      <td>NV</td>\n",
       "      <td>OLDSMOBILE.CUTLASS SUPREME</td>\n",
       "    </tr>\n",
       "  </tbody>\n",
       "</table>\n",
       "</div>"
      ],
      "text/plain": [
       "  data.set  total.cost  lot.sale.days overage  mileage   vehicle.type  \\\n",
       "0    TRAIN        4037            135     YES    67341   FAMILY.LARGE   \n",
       "1    TRAIN        6886            114     YES    72823  FAMILY.MEDIUM   \n",
       "2    TRAIN        3924            205     YES    96330  FAMILY.MEDIUM   \n",
       "3    TRAIN        4636            100     YES    58519        ECONOMY   \n",
       "4    TRAIN        5080            129     YES    99057  FAMILY.MEDIUM   \n",
       "\n",
       "  domestic.import  vehicle.age vehicle.age.group color.set       makex state  \\\n",
       "0        Domestic            8            SEVEN+    SILVER       BUICK    CA   \n",
       "1        Domestic            6               SIX     WHITE       DODGE    AZ   \n",
       "2        Domestic            9            SEVEN+     WHITE  OLDSMOBILE    FL   \n",
       "3          Import            4              FOUR      GOLD         KIA    NV   \n",
       "4        Domestic            4              FOUR     GREEN  OLDSMOBILE    NV   \n",
       "\n",
       "                   make.model  \n",
       "0               BUICK.CENTURY  \n",
       "1                  DODGE.NEON  \n",
       "2  OLDSMOBILE.CUTLASS SUPREME  \n",
       "3                  KIA.SEPHIA  \n",
       "4  OLDSMOBILE.CUTLASS SUPREME  "
      ]
     },
     "execution_count": 5,
     "metadata": {},
     "output_type": "execute_result"
    }
   ],
   "source": [
    "df = pd.read_csv('carros_usados.csv', sep=';')\n",
    "df.head()"
   ]
  },
  {
   "cell_type": "markdown",
   "id": "def88c1c",
   "metadata": {},
   "source": [
    "# Informações gerais sobre o dataset"
   ]
  },
  {
   "cell_type": "code",
   "execution_count": 7,
   "id": "c3cb5933",
   "metadata": {},
   "outputs": [
    {
     "name": "stdout",
     "output_type": "stream",
     "text": [
      "<class 'pandas.core.frame.DataFrame'>\n",
      "RangeIndex: 7495 entries, 0 to 7494\n",
      "Data columns (total 13 columns):\n",
      " #   Column             Non-Null Count  Dtype \n",
      "---  ------             --------------  ----- \n",
      " 0   data.set           7495 non-null   object\n",
      " 1   total.cost         7495 non-null   int64 \n",
      " 2   lot.sale.days      7495 non-null   int64 \n",
      " 3   overage            7495 non-null   object\n",
      " 4   mileage            7495 non-null   int64 \n",
      " 5   vehicle.type       7495 non-null   object\n",
      " 6   domestic.import    7495 non-null   object\n",
      " 7   vehicle.age        7495 non-null   int64 \n",
      " 8   vehicle.age.group  7495 non-null   object\n",
      " 9   color.set          7495 non-null   object\n",
      " 10  makex              7495 non-null   object\n",
      " 11  state              7495 non-null   object\n",
      " 12  make.model         7495 non-null   object\n",
      "dtypes: int64(4), object(9)\n",
      "memory usage: 761.3+ KB\n"
     ]
    }
   ],
   "source": [
    "df.info()"
   ]
  },
  {
   "cell_type": "code",
   "execution_count": 8,
   "id": "698f1b67",
   "metadata": {},
   "outputs": [
    {
     "data": {
      "text/html": [
       "<div>\n",
       "<style scoped>\n",
       "    .dataframe tbody tr th:only-of-type {\n",
       "        vertical-align: middle;\n",
       "    }\n",
       "\n",
       "    .dataframe tbody tr th {\n",
       "        vertical-align: top;\n",
       "    }\n",
       "\n",
       "    .dataframe thead th {\n",
       "        text-align: right;\n",
       "    }\n",
       "</style>\n",
       "<table border=\"1\" class=\"dataframe\">\n",
       "  <thead>\n",
       "    <tr style=\"text-align: right;\">\n",
       "      <th></th>\n",
       "      <th>total.cost</th>\n",
       "      <th>lot.sale.days</th>\n",
       "      <th>mileage</th>\n",
       "      <th>vehicle.age</th>\n",
       "    </tr>\n",
       "  </thead>\n",
       "  <tbody>\n",
       "    <tr>\n",
       "      <th>count</th>\n",
       "      <td>7495.000000</td>\n",
       "      <td>7495.000000</td>\n",
       "      <td>7495.000000</td>\n",
       "      <td>7495.000000</td>\n",
       "    </tr>\n",
       "    <tr>\n",
       "      <th>mean</th>\n",
       "      <td>4980.035490</td>\n",
       "      <td>76.454303</td>\n",
       "      <td>77234.533422</td>\n",
       "      <td>5.567312</td>\n",
       "    </tr>\n",
       "    <tr>\n",
       "      <th>std</th>\n",
       "      <td>937.602064</td>\n",
       "      <td>64.644337</td>\n",
       "      <td>17142.552588</td>\n",
       "      <td>1.756219</td>\n",
       "    </tr>\n",
       "    <tr>\n",
       "      <th>min</th>\n",
       "      <td>1375.000000</td>\n",
       "      <td>0.000000</td>\n",
       "      <td>1036.000000</td>\n",
       "      <td>1.000000</td>\n",
       "    </tr>\n",
       "    <tr>\n",
       "      <th>25%</th>\n",
       "      <td>4354.000000</td>\n",
       "      <td>14.000000</td>\n",
       "      <td>67946.000000</td>\n",
       "      <td>4.000000</td>\n",
       "    </tr>\n",
       "    <tr>\n",
       "      <th>50%</th>\n",
       "      <td>4919.000000</td>\n",
       "      <td>73.000000</td>\n",
       "      <td>78534.000000</td>\n",
       "      <td>5.000000</td>\n",
       "    </tr>\n",
       "    <tr>\n",
       "      <th>75%</th>\n",
       "      <td>5540.000000</td>\n",
       "      <td>120.000000</td>\n",
       "      <td>89340.000000</td>\n",
       "      <td>7.000000</td>\n",
       "    </tr>\n",
       "    <tr>\n",
       "      <th>max</th>\n",
       "      <td>9813.000000</td>\n",
       "      <td>300.000000</td>\n",
       "      <td>119250.000000</td>\n",
       "      <td>12.000000</td>\n",
       "    </tr>\n",
       "  </tbody>\n",
       "</table>\n",
       "</div>"
      ],
      "text/plain": [
       "        total.cost  lot.sale.days        mileage  vehicle.age\n",
       "count  7495.000000    7495.000000    7495.000000  7495.000000\n",
       "mean   4980.035490      76.454303   77234.533422     5.567312\n",
       "std     937.602064      64.644337   17142.552588     1.756219\n",
       "min    1375.000000       0.000000    1036.000000     1.000000\n",
       "25%    4354.000000      14.000000   67946.000000     4.000000\n",
       "50%    4919.000000      73.000000   78534.000000     5.000000\n",
       "75%    5540.000000     120.000000   89340.000000     7.000000\n",
       "max    9813.000000     300.000000  119250.000000    12.000000"
      ]
     },
     "execution_count": 8,
     "metadata": {},
     "output_type": "execute_result"
    }
   ],
   "source": [
    "df.describe()"
   ]
  },
  {
   "cell_type": "markdown",
   "id": "393557d0",
   "metadata": {},
   "source": [
    "# 1. Vendas e Estoques\n",
    "\n",
    "# Qual é o tempo médio em dias que os veículos passam no lote antes de serem vendidos (lot.sale.days)?\n",
    "\n"
   ]
  },
  {
   "cell_type": "code",
   "execution_count": 17,
   "id": "396df559",
   "metadata": {},
   "outputs": [
    {
     "name": "stdout",
     "output_type": "stream",
     "text": [
      "Tempo médio em dias que os veículos passam no lote antes de serem vendidos: 76.45 dias\n"
     ]
    }
   ],
   "source": [
    "mean1 = df['lot.sale.days'].mean()\n",
    "print(f'Tempo médio em dias que os veículos passam no lote antes de serem vendidos: {mean1:.2f} dias')"
   ]
  },
  {
   "cell_type": "markdown",
   "id": "f6e34c16",
   "metadata": {},
   "source": [
    "# Veículos de que tipo (vehicle.type) têm o menor tempo de venda?\n"
   ]
  },
  {
   "cell_type": "code",
   "execution_count": 58,
   "id": "31957a99",
   "metadata": {},
   "outputs": [
    {
     "name": "stdout",
     "output_type": "stream",
     "text": [
      "Veículos de que tipo LUXURY têm o menor tempo de venda com 61.98 dias\n"
     ]
    }
   ],
   "source": [
    "mean2 = df.groupby(['vehicle.type'])\n",
    "mean3 = mean2['lot.sale.days'].mean()  \n",
    "minimum = mean3[mean3 == mean3.min()]\n",
    "print(f'Veículos de que tipo {minimum.index[0]} têm o menor tempo de venda com {minimum.values[0]:.2f} dias')\n"
   ]
  },
  {
   "cell_type": "markdown",
   "id": "5c7f78e8",
   "metadata": {},
   "source": [
    "# Como a quilometragem (mileage) influencia o tempo de venda (lot.sale.days)?"
   ]
  },
  {
   "cell_type": "code",
   "execution_count": 80,
   "id": "f216e7d3",
   "metadata": {},
   "outputs": [
    {
     "name": "stdout",
     "output_type": "stream",
     "text": [
      "A correlação entre lot.sale.days e mileage é: 0.06. \n",
      "Isso indica que há baixa ou inexistente correlação entre a quilometragem e o tempo de venda dos veículos.\n"
     ]
    }
   ],
   "source": [
    "correlation = df['lot.sale.days'].corr(df['mileage'])\n",
    "print(f'A correlação entre lot.sale.days e mileage é: {correlation:.2f}. \\nIsso indica que há baixa ou inexistente correlação entre a quilometragem e o tempo de venda dos veículos.')"
   ]
  },
  {
   "cell_type": "markdown",
   "id": "eba2d2da",
   "metadata": {},
   "source": [
    "# Existe alguma diferença significativa no total.cost de veículos com cores diferentes (color.set)?"
   ]
  },
  {
   "cell_type": "code",
   "execution_count": 129,
   "id": "9be89fe6",
   "metadata": {},
   "outputs": [
    {
     "data": {
      "text/plain": [
       "<Axes: xlabel='total.cost'>"
      ]
     },
     "execution_count": 129,
     "metadata": {},
     "output_type": "execute_result"
    },
    {
     "data": {
      "image/png": "[encoded data removed]",
      "text/plain": [
       "<Figure size 640x480 with 1 Axes>"
      ]
     },
     "metadata": {},
     "output_type": "display_data"
    }
   ],
   "source": [
    "z = df[['total.cost', 'color.set']]\n",
    "avg_color = z.groupby(['color.set']).mean().reset_index().sort_values(by='total.cost', ascending=False)\n",
    "sns.barplot(data=z, x= 'total.cost', hue='color.set', fill=True)\n"
   ]
  },
  {
   "cell_type": "markdown",
   "id": "7872e7e5",
   "metadata": {},
   "source": [
    "# Cor de carro mais vendidas"
   ]
  },
  {
   "cell_type": "code",
   "execution_count": 123,
   "id": "c1c23092",
   "metadata": {},
   "outputs": [
    {
     "data": {
      "text/html": [
       "<div>\n",
       "<style scoped>\n",
       "    .dataframe tbody tr th:only-of-type {\n",
       "        vertical-align: middle;\n",
       "    }\n",
       "\n",
       "    .dataframe tbody tr th {\n",
       "        vertical-align: top;\n",
       "    }\n",
       "\n",
       "    .dataframe thead th {\n",
       "        text-align: right;\n",
       "    }\n",
       "</style>\n",
       "<table border=\"1\" class=\"dataframe\">\n",
       "  <thead>\n",
       "    <tr style=\"text-align: right;\">\n",
       "      <th></th>\n",
       "      <th>data.set</th>\n",
       "      <th>total.cost</th>\n",
       "      <th>lot.sale.days</th>\n",
       "      <th>overage</th>\n",
       "      <th>mileage</th>\n",
       "      <th>vehicle.type</th>\n",
       "      <th>domestic.import</th>\n",
       "      <th>vehicle.age</th>\n",
       "      <th>vehicle.age.group</th>\n",
       "      <th>makex</th>\n",
       "      <th>state</th>\n",
       "      <th>make.model</th>\n",
       "    </tr>\n",
       "    <tr>\n",
       "      <th>color.set</th>\n",
       "      <th></th>\n",
       "      <th></th>\n",
       "      <th></th>\n",
       "      <th></th>\n",
       "      <th></th>\n",
       "      <th></th>\n",
       "      <th></th>\n",
       "      <th></th>\n",
       "      <th></th>\n",
       "      <th></th>\n",
       "      <th></th>\n",
       "      <th></th>\n",
       "    </tr>\n",
       "  </thead>\n",
       "  <tbody>\n",
       "    <tr>\n",
       "      <th>WHITE</th>\n",
       "      <td>1602</td>\n",
       "      <td>1602</td>\n",
       "      <td>1602</td>\n",
       "      <td>1602</td>\n",
       "      <td>1602</td>\n",
       "      <td>1602</td>\n",
       "      <td>1602</td>\n",
       "      <td>1602</td>\n",
       "      <td>1602</td>\n",
       "      <td>1602</td>\n",
       "      <td>1602</td>\n",
       "      <td>1602</td>\n",
       "    </tr>\n",
       "    <tr>\n",
       "      <th>GREEN</th>\n",
       "      <td>1431</td>\n",
       "      <td>1431</td>\n",
       "      <td>1431</td>\n",
       "      <td>1431</td>\n",
       "      <td>1431</td>\n",
       "      <td>1431</td>\n",
       "      <td>1431</td>\n",
       "      <td>1431</td>\n",
       "      <td>1431</td>\n",
       "      <td>1431</td>\n",
       "      <td>1431</td>\n",
       "      <td>1431</td>\n",
       "    </tr>\n",
       "    <tr>\n",
       "      <th>BLUE</th>\n",
       "      <td>1153</td>\n",
       "      <td>1153</td>\n",
       "      <td>1153</td>\n",
       "      <td>1153</td>\n",
       "      <td>1153</td>\n",
       "      <td>1153</td>\n",
       "      <td>1153</td>\n",
       "      <td>1153</td>\n",
       "      <td>1153</td>\n",
       "      <td>1153</td>\n",
       "      <td>1153</td>\n",
       "      <td>1153</td>\n",
       "    </tr>\n",
       "    <tr>\n",
       "      <th>PURPLE</th>\n",
       "      <td>817</td>\n",
       "      <td>817</td>\n",
       "      <td>817</td>\n",
       "      <td>817</td>\n",
       "      <td>817</td>\n",
       "      <td>817</td>\n",
       "      <td>817</td>\n",
       "      <td>817</td>\n",
       "      <td>817</td>\n",
       "      <td>817</td>\n",
       "      <td>817</td>\n",
       "      <td>817</td>\n",
       "    </tr>\n",
       "    <tr>\n",
       "      <th>SILVER</th>\n",
       "      <td>721</td>\n",
       "      <td>721</td>\n",
       "      <td>721</td>\n",
       "      <td>721</td>\n",
       "      <td>721</td>\n",
       "      <td>721</td>\n",
       "      <td>721</td>\n",
       "      <td>721</td>\n",
       "      <td>721</td>\n",
       "      <td>721</td>\n",
       "      <td>721</td>\n",
       "      <td>721</td>\n",
       "    </tr>\n",
       "    <tr>\n",
       "      <th>GOLD</th>\n",
       "      <td>688</td>\n",
       "      <td>688</td>\n",
       "      <td>688</td>\n",
       "      <td>688</td>\n",
       "      <td>688</td>\n",
       "      <td>688</td>\n",
       "      <td>688</td>\n",
       "      <td>688</td>\n",
       "      <td>688</td>\n",
       "      <td>688</td>\n",
       "      <td>688</td>\n",
       "      <td>688</td>\n",
       "    </tr>\n",
       "    <tr>\n",
       "      <th>RED</th>\n",
       "      <td>614</td>\n",
       "      <td>614</td>\n",
       "      <td>614</td>\n",
       "      <td>614</td>\n",
       "      <td>614</td>\n",
       "      <td>614</td>\n",
       "      <td>614</td>\n",
       "      <td>614</td>\n",
       "      <td>614</td>\n",
       "      <td>614</td>\n",
       "      <td>614</td>\n",
       "      <td>614</td>\n",
       "    </tr>\n",
       "    <tr>\n",
       "      <th>BLACK</th>\n",
       "      <td>469</td>\n",
       "      <td>469</td>\n",
       "      <td>469</td>\n",
       "      <td>469</td>\n",
       "      <td>469</td>\n",
       "      <td>469</td>\n",
       "      <td>469</td>\n",
       "      <td>469</td>\n",
       "      <td>469</td>\n",
       "      <td>469</td>\n",
       "      <td>469</td>\n",
       "      <td>469</td>\n",
       "    </tr>\n",
       "  </tbody>\n",
       "</table>\n",
       "</div>"
      ],
      "text/plain": [
       "           data.set  total.cost  lot.sale.days  overage  mileage  \\\n",
       "color.set                                                          \n",
       "WHITE          1602        1602           1602     1602     1602   \n",
       "GREEN          1431        1431           1431     1431     1431   \n",
       "BLUE           1153        1153           1153     1153     1153   \n",
       "PURPLE          817         817            817      817      817   \n",
       "SILVER          721         721            721      721      721   \n",
       "GOLD            688         688            688      688      688   \n",
       "RED             614         614            614      614      614   \n",
       "BLACK           469         469            469      469      469   \n",
       "\n",
       "           vehicle.type  domestic.import  vehicle.age  vehicle.age.group  \\\n",
       "color.set                                                                  \n",
       "WHITE              1602             1602         1602               1602   \n",
       "GREEN              1431             1431         1431               1431   \n",
       "BLUE               1153             1153         1153               1153   \n",
       "PURPLE              817              817          817                817   \n",
       "SILVER              721              721          721                721   \n",
       "GOLD                688              688          688                688   \n",
       "RED                 614              614          614                614   \n",
       "BLACK               469              469          469                469   \n",
       "\n",
       "           makex  state  make.model  \n",
       "color.set                            \n",
       "WHITE       1602   1602        1602  \n",
       "GREEN       1431   1431        1431  \n",
       "BLUE        1153   1153        1153  \n",
       "PURPLE       817    817         817  \n",
       "SILVER       721    721         721  \n",
       "GOLD         688    688         688  \n",
       "RED          614    614         614  \n",
       "BLACK        469    469         469  "
      ]
     },
     "execution_count": 123,
     "metadata": {},
     "output_type": "execute_result"
    }
   ],
   "source": [
    "z = df.groupby(['color.set']).count().sort_values(by='data.set', ascending=False) \n",
    "z"
   ]
  },
  {
   "cell_type": "markdown",
   "id": "2ee3e5ba",
   "metadata": {},
   "source": [
    "\n",
    "\n",
    "# Existe alguma correlação entre o vehicle.age (idade do veículo) e o total.cost (custo total)?\n"
   ]
  },
  {
   "cell_type": "code",
   "execution_count": null,
   "id": "0aeae1fa",
   "metadata": {},
   "outputs": [
    {
     "name": "stdout",
     "output_type": "stream",
     "text": [
      "A correlação entre total.cost e mileage é: -0.13. \n",
      "Isso indica que há uma correlação positiva moderada entre o custo total e a quilometragem dos veículos.\n"
     ]
    }
   ],
   "source": [
    "x = df[['total.cost', 'mileage']].corr().iloc[0, 1]\n",
    "\n",
    "print(f'A correlação entre total.cost e mileage é: {x:.2f}. \\nIsso indica que há uma correlação negativa fraca  entre o custo total e a quilometragem dos veículos.')"
   ]
  },
  {
   "cell_type": "markdown",
   "id": "f7a027a0",
   "metadata": {},
   "source": [
    "# 2. Preço e Custos\n",
    "\n"
   ]
  },
  {
   "cell_type": "markdown",
   "id": "6119ff4a",
   "metadata": {},
   "source": [
    "# Qual é o preço médio dos veículos vendidos, segmentado por state (estado)?\n"
   ]
  },
  {
   "cell_type": "code",
   "execution_count": 146,
   "id": "34167275",
   "metadata": {},
   "outputs": [
    {
     "data": {
      "text/html": [
       "<div>\n",
       "<style scoped>\n",
       "    .dataframe tbody tr th:only-of-type {\n",
       "        vertical-align: middle;\n",
       "    }\n",
       "\n",
       "    .dataframe tbody tr th {\n",
       "        vertical-align: top;\n",
       "    }\n",
       "\n",
       "    .dataframe thead th {\n",
       "        text-align: right;\n",
       "    }\n",
       "</style>\n",
       "<table border=\"1\" class=\"dataframe\">\n",
       "  <thead>\n",
       "    <tr style=\"text-align: right;\">\n",
       "      <th></th>\n",
       "      <th>total.cost</th>\n",
       "    </tr>\n",
       "    <tr>\n",
       "      <th>state</th>\n",
       "      <th></th>\n",
       "    </tr>\n",
       "  </thead>\n",
       "  <tbody>\n",
       "    <tr>\n",
       "      <th>GA</th>\n",
       "      <td>5123.230874</td>\n",
       "    </tr>\n",
       "    <tr>\n",
       "      <th>NV</th>\n",
       "      <td>5092.811245</td>\n",
       "    </tr>\n",
       "    <tr>\n",
       "      <th>TX</th>\n",
       "      <td>5065.806061</td>\n",
       "    </tr>\n",
       "    <tr>\n",
       "      <th>CA</th>\n",
       "      <td>5064.960861</td>\n",
       "    </tr>\n",
       "    <tr>\n",
       "      <th>AZ</th>\n",
       "      <td>4931.399261</td>\n",
       "    </tr>\n",
       "    <tr>\n",
       "      <th>VA</th>\n",
       "      <td>4881.094903</td>\n",
       "    </tr>\n",
       "    <tr>\n",
       "      <th>FL</th>\n",
       "      <td>4821.242279</td>\n",
       "    </tr>\n",
       "    <tr>\n",
       "      <th>NM</th>\n",
       "      <td>4691.565022</td>\n",
       "    </tr>\n",
       "  </tbody>\n",
       "</table>\n",
       "</div>"
      ],
      "text/plain": [
       "        total.cost\n",
       "state             \n",
       "GA     5123.230874\n",
       "NV     5092.811245\n",
       "TX     5065.806061\n",
       "CA     5064.960861\n",
       "AZ     4931.399261\n",
       "VA     4881.094903\n",
       "FL     4821.242279\n",
       "NM     4691.565022"
      ]
     },
     "execution_count": 146,
     "metadata": {},
     "output_type": "execute_result"
    }
   ],
   "source": [
    "df.groupby(['state']).agg({'total.cost': 'mean'}).sort_values(by='total.cost', ascending=False)"
   ]
  },
  {
   "cell_type": "markdown",
   "id": "db88c4e2",
   "metadata": {},
   "source": [
    "# Veículos importados (domestic.import) são, em média, mais caros que os domésticos?\n"
   ]
  },
  {
   "cell_type": "code",
   "execution_count": 163,
   "id": "f752642e",
   "metadata": {},
   "outputs": [
    {
     "name": "stdout",
     "output_type": "stream",
     "text": [
      "                  total.cost\n",
      "domestic.import             \n",
      "Import           5088.144105\n",
      "Domestic         4932.471854\n",
      "Os veículos importados são, em média, mais caros que os domésticos\n"
     ]
    }
   ],
   "source": [
    "z = df.groupby(['domestic.import']).agg({'total.cost': 'mean'}).sort_values(by='total.cost', ascending=False)\n",
    "print(z)\n",
    "print(f'Os veículos importados são, em média, mais caros que os domésticos')"
   ]
  },
  {
   "cell_type": "markdown",
   "id": "84f9771c",
   "metadata": {},
   "source": [
    "# Existe alguma diferença significativa no total.cost de veículos com cores diferentes (color.set)?"
   ]
  },
  {
   "cell_type": "code",
   "execution_count": 189,
   "id": "4312d592",
   "metadata": {},
   "outputs": [
    {
     "name": "stdout",
     "output_type": "stream",
     "text": [
      "Veículos pretos custam mais. Cores diferentes tem preços diferentes.\n"
     ]
    },
    {
     "data": {
      "image/png": "[encoded data removed]",
      "text/plain": [
       "<Figure size 640x480 with 1 Axes>"
      ]
     },
     "metadata": {},
     "output_type": "display_data"
    }
   ],
   "source": [
    "z = df[['total.cost', 'color.set']]\n",
    "avg_total_cost = z.groupby(['color.set']).mean().reset_index().sort_values(by='total.cost', ascending=False)\n",
    "sns.barplot(data=z, x='total.cost', hue='color.set', fill=True)\n",
    "print(\"Veículos pretos custam mais. Cores diferentes tem preços diferentes.\")"
   ]
  },
  {
   "cell_type": "markdown",
   "id": "82ae07b8",
   "metadata": {},
   "source": [
    "# Como o total.cost varia por vehicle.age.group (grupo de idade) e por tipo de veículo (vehicle.type)?\n"
   ]
  },
  {
   "cell_type": "code",
   "execution_count": 194,
   "id": "62db6f01",
   "metadata": {},
   "outputs": [
    {
     "data": {
      "text/plain": [
       "<Axes: xlabel='total.cost', ylabel='vehicle.age.group'>"
      ]
     },
     "execution_count": 194,
     "metadata": {},
     "output_type": "execute_result"
    },
    {
     "data": {
      "image/png": "[encoded data removed]",
      "text/plain": [
       "<Figure size 640x480 with 1 Axes>"
      ]
     },
     "metadata": {},
     "output_type": "display_data"
    }
   ],
   "source": [
    "z = df[['total.cost', 'vehicle.type', 'vehicle.age.group']].groupby(['vehicle.age.group', 'vehicle.type']).mean().reset_index().sort_values(by='vehicle.type', ascending=False)\n",
    "sns.barplot(data=z, x='total.cost', y='vehicle.age.group', hue = 'vehicle.type', fill=True)"
   ]
  },
  {
   "cell_type": "code",
   "execution_count": 197,
   "id": "e204ec29",
   "metadata": {},
   "outputs": [
    {
     "name": "stdout",
     "output_type": "stream",
     "text": [
      "    vehicle.type   total.cost\n",
      "4         LUXURY  5197.543501\n",
      "1   FAMILY.LARGE  5082.039676\n",
      "2  FAMILY.MEDIUM  4994.391175\n",
      "3   FAMILY.SMALL  4923.364751\n",
      "0        ECONOMY  4660.747925\n"
     ]
    }
   ],
   "source": [
    "z = df[['total.cost', 'vehicle.type']].groupby(['vehicle.type']).mean().reset_index().sort_values(by='total.cost', ascending=False)\n",
    "print(z)"
   ]
  },
  {
   "cell_type": "markdown",
   "id": "7d7e0e35",
   "metadata": {},
   "source": [
    "# Quais marcas (makex) e modelos (make.model) são mais vendidas em cada estado?\n"
   ]
  },
  {
   "cell_type": "code",
   "execution_count": 260,
   "id": "c8e1886e",
   "metadata": {},
   "outputs": [],
   "source": [
    "w = df[['makex', 'make.model', 'state']].groupby(['makex', 'make.model', 'state']).count().reset_index().sort_values(by='state', ascending=False)\n"
   ]
  }
 ],
 "metadata": {
  "kernelspec": {
   "display_name": "venv",
   "language": "python",
   "name": "python3"
  },
  "language_info": {
   "codemirror_mode": {
    "name": "ipython",
    "version": 3
   },
   "file_extension": ".py",
   "mimetype": "text/x-python",
   "name": "python",
   "nbconvert_exporter": "python",
   "pygments_lexer": "ipython3",
   "version": "3.12.3"
  }
 },
 "nbformat": 4,
 "nbformat_minor": 5
}
